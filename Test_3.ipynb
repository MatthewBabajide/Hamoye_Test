{
  "nbformat": 4,
  "nbformat_minor": 0,
  "metadata": {
    "kernelspec": {
      "display_name": "Python 3",
      "language": "python",
      "name": "python3"
    },
    "language_info": {
      "codemirror_mode": {
        "name": "ipython",
        "version": 3
      },
      "file_extension": ".py",
      "mimetype": "text/x-python",
      "name": "python",
      "nbconvert_exporter": "python",
      "pygments_lexer": "ipython3",
      "version": "3.7.6"
    },
    "colab": {
      "name": "Test 3.ipynb",
      "provenance": [],
      "collapsed_sections": [],
      "include_colab_link": true
    }
  },
  "cells": [
    {
      "cell_type": "markdown",
      "metadata": {
        "id": "view-in-github",
        "colab_type": "text"
      },
      "source": [
        "<a href=\"https://colab.research.google.com/github/MatthewBabajide/Hamoye_Test/blob/master/Test_3.ipynb\" target=\"_parent\"><img src=\"https://colab.research.google.com/assets/colab-badge.svg\" alt=\"Open In Colab\"/></a>"
      ]
    },
    {
      "cell_type": "code",
      "metadata": {
        "id": "uUO-a3i7U1Lx",
        "colab_type": "code",
        "colab": {
          "base_uri": "https://localhost:8080/",
          "height": 224
        },
        "outputId": "89abb161-1272-4778-8a7c-5eabe4235bc3"
      },
      "source": [
        "#writing import statements\n",
        "import pandas as pd\n",
        "import numpy as np\n",
        "import matplotlib.pyplot as plt\n",
        "from sklearn.model_selection import train_test_split\n",
        "from sklearn.ensemble import RandomForestClassifier, ExtraTreesClassifier\n",
        "\n",
        "\n",
        "#load csv file\n",
        "grid_data = pd.read_csv(\"https://archive.ics.uci.edu/ml/machine-learning-databases/00471/Data_for_UCI_named.csv\")\n",
        "\n",
        "#view first 5 rows of the dataframe\n",
        "grid_data.head()"
      ],
      "execution_count": 1,
      "outputs": [
        {
          "output_type": "execute_result",
          "data": {
            "text/html": [
              "<div>\n",
              "<style scoped>\n",
              "    .dataframe tbody tr th:only-of-type {\n",
              "        vertical-align: middle;\n",
              "    }\n",
              "\n",
              "    .dataframe tbody tr th {\n",
              "        vertical-align: top;\n",
              "    }\n",
              "\n",
              "    .dataframe thead th {\n",
              "        text-align: right;\n",
              "    }\n",
              "</style>\n",
              "<table border=\"1\" class=\"dataframe\">\n",
              "  <thead>\n",
              "    <tr style=\"text-align: right;\">\n",
              "      <th></th>\n",
              "      <th>tau1</th>\n",
              "      <th>tau2</th>\n",
              "      <th>tau3</th>\n",
              "      <th>tau4</th>\n",
              "      <th>p1</th>\n",
              "      <th>p2</th>\n",
              "      <th>p3</th>\n",
              "      <th>p4</th>\n",
              "      <th>g1</th>\n",
              "      <th>g2</th>\n",
              "      <th>g3</th>\n",
              "      <th>g4</th>\n",
              "      <th>stab</th>\n",
              "      <th>stabf</th>\n",
              "    </tr>\n",
              "  </thead>\n",
              "  <tbody>\n",
              "    <tr>\n",
              "      <th>0</th>\n",
              "      <td>2.959060</td>\n",
              "      <td>3.079885</td>\n",
              "      <td>8.381025</td>\n",
              "      <td>9.780754</td>\n",
              "      <td>3.763085</td>\n",
              "      <td>-0.782604</td>\n",
              "      <td>-1.257395</td>\n",
              "      <td>-1.723086</td>\n",
              "      <td>0.650456</td>\n",
              "      <td>0.859578</td>\n",
              "      <td>0.887445</td>\n",
              "      <td>0.958034</td>\n",
              "      <td>0.055347</td>\n",
              "      <td>unstable</td>\n",
              "    </tr>\n",
              "    <tr>\n",
              "      <th>1</th>\n",
              "      <td>9.304097</td>\n",
              "      <td>4.902524</td>\n",
              "      <td>3.047541</td>\n",
              "      <td>1.369357</td>\n",
              "      <td>5.067812</td>\n",
              "      <td>-1.940058</td>\n",
              "      <td>-1.872742</td>\n",
              "      <td>-1.255012</td>\n",
              "      <td>0.413441</td>\n",
              "      <td>0.862414</td>\n",
              "      <td>0.562139</td>\n",
              "      <td>0.781760</td>\n",
              "      <td>-0.005957</td>\n",
              "      <td>stable</td>\n",
              "    </tr>\n",
              "    <tr>\n",
              "      <th>2</th>\n",
              "      <td>8.971707</td>\n",
              "      <td>8.848428</td>\n",
              "      <td>3.046479</td>\n",
              "      <td>1.214518</td>\n",
              "      <td>3.405158</td>\n",
              "      <td>-1.207456</td>\n",
              "      <td>-1.277210</td>\n",
              "      <td>-0.920492</td>\n",
              "      <td>0.163041</td>\n",
              "      <td>0.766689</td>\n",
              "      <td>0.839444</td>\n",
              "      <td>0.109853</td>\n",
              "      <td>0.003471</td>\n",
              "      <td>unstable</td>\n",
              "    </tr>\n",
              "    <tr>\n",
              "      <th>3</th>\n",
              "      <td>0.716415</td>\n",
              "      <td>7.669600</td>\n",
              "      <td>4.486641</td>\n",
              "      <td>2.340563</td>\n",
              "      <td>3.963791</td>\n",
              "      <td>-1.027473</td>\n",
              "      <td>-1.938944</td>\n",
              "      <td>-0.997374</td>\n",
              "      <td>0.446209</td>\n",
              "      <td>0.976744</td>\n",
              "      <td>0.929381</td>\n",
              "      <td>0.362718</td>\n",
              "      <td>0.028871</td>\n",
              "      <td>unstable</td>\n",
              "    </tr>\n",
              "    <tr>\n",
              "      <th>4</th>\n",
              "      <td>3.134112</td>\n",
              "      <td>7.608772</td>\n",
              "      <td>4.943759</td>\n",
              "      <td>9.857573</td>\n",
              "      <td>3.525811</td>\n",
              "      <td>-1.125531</td>\n",
              "      <td>-1.845975</td>\n",
              "      <td>-0.554305</td>\n",
              "      <td>0.797110</td>\n",
              "      <td>0.455450</td>\n",
              "      <td>0.656947</td>\n",
              "      <td>0.820923</td>\n",
              "      <td>0.049860</td>\n",
              "      <td>unstable</td>\n",
              "    </tr>\n",
              "  </tbody>\n",
              "</table>\n",
              "</div>"
            ],
            "text/plain": [
              "       tau1      tau2      tau3  ...        g4      stab     stabf\n",
              "0  2.959060  3.079885  8.381025  ...  0.958034  0.055347  unstable\n",
              "1  9.304097  4.902524  3.047541  ...  0.781760 -0.005957    stable\n",
              "2  8.971707  8.848428  3.046479  ...  0.109853  0.003471  unstable\n",
              "3  0.716415  7.669600  4.486641  ...  0.362718  0.028871  unstable\n",
              "4  3.134112  7.608772  4.943759  ...  0.820923  0.049860  unstable\n",
              "\n",
              "[5 rows x 14 columns]"
            ]
          },
          "metadata": {
            "tags": []
          },
          "execution_count": 1
        }
      ]
    },
    {
      "cell_type": "code",
      "metadata": {
        "scrolled": false,
        "id": "30DAQ1ZnU1MJ",
        "colab_type": "code",
        "colab": {
          "base_uri": "https://localhost:8080/",
          "height": 410
        },
        "outputId": "d1db3042-5620-4d7d-985e-7d34f94f02ec"
      },
      "source": [
        "#exploring the dataset\n",
        "grid_data.describe(include = \"all\")"
      ],
      "execution_count": 2,
      "outputs": [
        {
          "output_type": "execute_result",
          "data": {
            "text/html": [
              "<div>\n",
              "<style scoped>\n",
              "    .dataframe tbody tr th:only-of-type {\n",
              "        vertical-align: middle;\n",
              "    }\n",
              "\n",
              "    .dataframe tbody tr th {\n",
              "        vertical-align: top;\n",
              "    }\n",
              "\n",
              "    .dataframe thead th {\n",
              "        text-align: right;\n",
              "    }\n",
              "</style>\n",
              "<table border=\"1\" class=\"dataframe\">\n",
              "  <thead>\n",
              "    <tr style=\"text-align: right;\">\n",
              "      <th></th>\n",
              "      <th>tau1</th>\n",
              "      <th>tau2</th>\n",
              "      <th>tau3</th>\n",
              "      <th>tau4</th>\n",
              "      <th>p1</th>\n",
              "      <th>p2</th>\n",
              "      <th>p3</th>\n",
              "      <th>p4</th>\n",
              "      <th>g1</th>\n",
              "      <th>g2</th>\n",
              "      <th>g3</th>\n",
              "      <th>g4</th>\n",
              "      <th>stab</th>\n",
              "      <th>stabf</th>\n",
              "    </tr>\n",
              "  </thead>\n",
              "  <tbody>\n",
              "    <tr>\n",
              "      <th>count</th>\n",
              "      <td>10000.000000</td>\n",
              "      <td>10000.000000</td>\n",
              "      <td>10000.000000</td>\n",
              "      <td>10000.000000</td>\n",
              "      <td>10000.000000</td>\n",
              "      <td>10000.000000</td>\n",
              "      <td>10000.000000</td>\n",
              "      <td>10000.000000</td>\n",
              "      <td>10000.000000</td>\n",
              "      <td>10000.000000</td>\n",
              "      <td>10000.000000</td>\n",
              "      <td>10000.000000</td>\n",
              "      <td>10000.000000</td>\n",
              "      <td>10000</td>\n",
              "    </tr>\n",
              "    <tr>\n",
              "      <th>unique</th>\n",
              "      <td>NaN</td>\n",
              "      <td>NaN</td>\n",
              "      <td>NaN</td>\n",
              "      <td>NaN</td>\n",
              "      <td>NaN</td>\n",
              "      <td>NaN</td>\n",
              "      <td>NaN</td>\n",
              "      <td>NaN</td>\n",
              "      <td>NaN</td>\n",
              "      <td>NaN</td>\n",
              "      <td>NaN</td>\n",
              "      <td>NaN</td>\n",
              "      <td>NaN</td>\n",
              "      <td>2</td>\n",
              "    </tr>\n",
              "    <tr>\n",
              "      <th>top</th>\n",
              "      <td>NaN</td>\n",
              "      <td>NaN</td>\n",
              "      <td>NaN</td>\n",
              "      <td>NaN</td>\n",
              "      <td>NaN</td>\n",
              "      <td>NaN</td>\n",
              "      <td>NaN</td>\n",
              "      <td>NaN</td>\n",
              "      <td>NaN</td>\n",
              "      <td>NaN</td>\n",
              "      <td>NaN</td>\n",
              "      <td>NaN</td>\n",
              "      <td>NaN</td>\n",
              "      <td>unstable</td>\n",
              "    </tr>\n",
              "    <tr>\n",
              "      <th>freq</th>\n",
              "      <td>NaN</td>\n",
              "      <td>NaN</td>\n",
              "      <td>NaN</td>\n",
              "      <td>NaN</td>\n",
              "      <td>NaN</td>\n",
              "      <td>NaN</td>\n",
              "      <td>NaN</td>\n",
              "      <td>NaN</td>\n",
              "      <td>NaN</td>\n",
              "      <td>NaN</td>\n",
              "      <td>NaN</td>\n",
              "      <td>NaN</td>\n",
              "      <td>NaN</td>\n",
              "      <td>6380</td>\n",
              "    </tr>\n",
              "    <tr>\n",
              "      <th>mean</th>\n",
              "      <td>5.250000</td>\n",
              "      <td>5.250001</td>\n",
              "      <td>5.250004</td>\n",
              "      <td>5.249997</td>\n",
              "      <td>3.750000</td>\n",
              "      <td>-1.250000</td>\n",
              "      <td>-1.250000</td>\n",
              "      <td>-1.250000</td>\n",
              "      <td>0.525000</td>\n",
              "      <td>0.525000</td>\n",
              "      <td>0.525000</td>\n",
              "      <td>0.525000</td>\n",
              "      <td>0.015731</td>\n",
              "      <td>NaN</td>\n",
              "    </tr>\n",
              "    <tr>\n",
              "      <th>std</th>\n",
              "      <td>2.742548</td>\n",
              "      <td>2.742549</td>\n",
              "      <td>2.742549</td>\n",
              "      <td>2.742556</td>\n",
              "      <td>0.752160</td>\n",
              "      <td>0.433035</td>\n",
              "      <td>0.433035</td>\n",
              "      <td>0.433035</td>\n",
              "      <td>0.274256</td>\n",
              "      <td>0.274255</td>\n",
              "      <td>0.274255</td>\n",
              "      <td>0.274255</td>\n",
              "      <td>0.036919</td>\n",
              "      <td>NaN</td>\n",
              "    </tr>\n",
              "    <tr>\n",
              "      <th>min</th>\n",
              "      <td>0.500793</td>\n",
              "      <td>0.500141</td>\n",
              "      <td>0.500788</td>\n",
              "      <td>0.500473</td>\n",
              "      <td>1.582590</td>\n",
              "      <td>-1.999891</td>\n",
              "      <td>-1.999945</td>\n",
              "      <td>-1.999926</td>\n",
              "      <td>0.050009</td>\n",
              "      <td>0.050053</td>\n",
              "      <td>0.050054</td>\n",
              "      <td>0.050028</td>\n",
              "      <td>-0.080760</td>\n",
              "      <td>NaN</td>\n",
              "    </tr>\n",
              "    <tr>\n",
              "      <th>25%</th>\n",
              "      <td>2.874892</td>\n",
              "      <td>2.875140</td>\n",
              "      <td>2.875522</td>\n",
              "      <td>2.874950</td>\n",
              "      <td>3.218300</td>\n",
              "      <td>-1.624901</td>\n",
              "      <td>-1.625025</td>\n",
              "      <td>-1.624960</td>\n",
              "      <td>0.287521</td>\n",
              "      <td>0.287552</td>\n",
              "      <td>0.287514</td>\n",
              "      <td>0.287494</td>\n",
              "      <td>-0.015557</td>\n",
              "      <td>NaN</td>\n",
              "    </tr>\n",
              "    <tr>\n",
              "      <th>50%</th>\n",
              "      <td>5.250004</td>\n",
              "      <td>5.249981</td>\n",
              "      <td>5.249979</td>\n",
              "      <td>5.249734</td>\n",
              "      <td>3.751025</td>\n",
              "      <td>-1.249966</td>\n",
              "      <td>-1.249974</td>\n",
              "      <td>-1.250007</td>\n",
              "      <td>0.525009</td>\n",
              "      <td>0.525003</td>\n",
              "      <td>0.525015</td>\n",
              "      <td>0.525002</td>\n",
              "      <td>0.017142</td>\n",
              "      <td>NaN</td>\n",
              "    </tr>\n",
              "    <tr>\n",
              "      <th>75%</th>\n",
              "      <td>7.624690</td>\n",
              "      <td>7.624893</td>\n",
              "      <td>7.624948</td>\n",
              "      <td>7.624838</td>\n",
              "      <td>4.282420</td>\n",
              "      <td>-0.874977</td>\n",
              "      <td>-0.875043</td>\n",
              "      <td>-0.875065</td>\n",
              "      <td>0.762435</td>\n",
              "      <td>0.762490</td>\n",
              "      <td>0.762440</td>\n",
              "      <td>0.762433</td>\n",
              "      <td>0.044878</td>\n",
              "      <td>NaN</td>\n",
              "    </tr>\n",
              "    <tr>\n",
              "      <th>max</th>\n",
              "      <td>9.999469</td>\n",
              "      <td>9.999837</td>\n",
              "      <td>9.999450</td>\n",
              "      <td>9.999443</td>\n",
              "      <td>5.864418</td>\n",
              "      <td>-0.500108</td>\n",
              "      <td>-0.500072</td>\n",
              "      <td>-0.500025</td>\n",
              "      <td>0.999937</td>\n",
              "      <td>0.999944</td>\n",
              "      <td>0.999982</td>\n",
              "      <td>0.999930</td>\n",
              "      <td>0.109403</td>\n",
              "      <td>NaN</td>\n",
              "    </tr>\n",
              "  </tbody>\n",
              "</table>\n",
              "</div>"
            ],
            "text/plain": [
              "                tau1          tau2  ...          stab     stabf\n",
              "count   10000.000000  10000.000000  ...  10000.000000     10000\n",
              "unique           NaN           NaN  ...           NaN         2\n",
              "top              NaN           NaN  ...           NaN  unstable\n",
              "freq             NaN           NaN  ...           NaN      6380\n",
              "mean        5.250000      5.250001  ...      0.015731       NaN\n",
              "std         2.742548      2.742549  ...      0.036919       NaN\n",
              "min         0.500793      0.500141  ...     -0.080760       NaN\n",
              "25%         2.874892      2.875140  ...     -0.015557       NaN\n",
              "50%         5.250004      5.249981  ...      0.017142       NaN\n",
              "75%         7.624690      7.624893  ...      0.044878       NaN\n",
              "max         9.999469      9.999837  ...      0.109403       NaN\n",
              "\n",
              "[11 rows x 14 columns]"
            ]
          },
          "metadata": {
            "tags": []
          },
          "execution_count": 2
        }
      ]
    },
    {
      "cell_type": "code",
      "metadata": {
        "id": "sRbMy6ghU1MU",
        "colab_type": "code",
        "colab": {
          "base_uri": "https://localhost:8080/",
          "height": 374
        },
        "outputId": "5a49b232-af18-4ac0-d986-b4e0bb4df599"
      },
      "source": [
        "grid_data.info()"
      ],
      "execution_count": 3,
      "outputs": [
        {
          "output_type": "stream",
          "text": [
            "<class 'pandas.core.frame.DataFrame'>\n",
            "RangeIndex: 10000 entries, 0 to 9999\n",
            "Data columns (total 14 columns):\n",
            " #   Column  Non-Null Count  Dtype  \n",
            "---  ------  --------------  -----  \n",
            " 0   tau1    10000 non-null  float64\n",
            " 1   tau2    10000 non-null  float64\n",
            " 2   tau3    10000 non-null  float64\n",
            " 3   tau4    10000 non-null  float64\n",
            " 4   p1      10000 non-null  float64\n",
            " 5   p2      10000 non-null  float64\n",
            " 6   p3      10000 non-null  float64\n",
            " 7   p4      10000 non-null  float64\n",
            " 8   g1      10000 non-null  float64\n",
            " 9   g2      10000 non-null  float64\n",
            " 10  g3      10000 non-null  float64\n",
            " 11  g4      10000 non-null  float64\n",
            " 12  stab    10000 non-null  float64\n",
            " 13  stabf   10000 non-null  object \n",
            "dtypes: float64(13), object(1)\n",
            "memory usage: 1.1+ MB\n"
          ],
          "name": "stdout"
        }
      ]
    },
    {
      "cell_type": "markdown",
      "metadata": {
        "id": "hpxz6M7vU1Mg",
        "colab_type": "text"
      },
      "source": [
        "### From the above, we can observe that\n",
        "\n",
        "* There are no missing values\n",
        "* All columns contain floats except \"stabf\" with contain categorial values\n",
        "* \"stabf\" is a binary classifier with \"unstable\" occuring 6380 times and \"stable\" 3620 times\n",
        "* there's imbalance in our target variable\n"
      ]
    },
    {
      "cell_type": "code",
      "metadata": {
        "id": "vR0QHy4KU1Mj",
        "colab_type": "code",
        "colab": {}
      },
      "source": [
        "#We will assign our features and target object\n",
        "X = grid_data.drop([\"stab\", \"stabf\"], axis = 1)\n",
        "y = grid_data.stabf"
      ],
      "execution_count": 4,
      "outputs": []
    },
    {
      "cell_type": "code",
      "metadata": {
        "id": "yEmBe_u2U1NK",
        "colab_type": "code",
        "colab": {}
      },
      "source": [
        "#split data into training and testing sets\n",
        "\n",
        "X_train, X_test, y_train, y_test = train_test_split(X, y, test_size = 0.2, random_state = 1)"
      ],
      "execution_count": 5,
      "outputs": []
    },
    {
      "cell_type": "code",
      "metadata": {
        "id": "naQ2qyNgU1NZ",
        "colab_type": "code",
        "colab": {
          "base_uri": "https://localhost:8080/",
          "height": 439
        },
        "outputId": "70f056e1-f0d1-4bd8-d931-8ce911b2800c"
      },
      "source": [
        "#Scaling our variables\n",
        "from sklearn.preprocessing import StandardScaler\n",
        "\n",
        "#instantiate the StandardScaler\n",
        "scaler = StandardScaler()\n",
        "scaled_train_X = scaler.fit_transform(X_train, y_train)\n",
        "scaled_train_X = pd.DataFrame(scaled_train_X, columns = X_train.columns)\n",
        "\n",
        "scaled_test_X = scaler.transform(X_test)\n",
        "scaled_test_X = pd.DataFrame(scaled_test_X, columns = X_test.columns)\n",
        "\n",
        "#scaled_train_X"
      ],
      "execution_count": 50,
      "outputs": [
        {
          "output_type": "execute_result",
          "data": {
            "text/html": [
              "<div>\n",
              "<style scoped>\n",
              "    .dataframe tbody tr th:only-of-type {\n",
              "        vertical-align: middle;\n",
              "    }\n",
              "\n",
              "    .dataframe tbody tr th {\n",
              "        vertical-align: top;\n",
              "    }\n",
              "\n",
              "    .dataframe thead th {\n",
              "        text-align: right;\n",
              "    }\n",
              "</style>\n",
              "<table border=\"1\" class=\"dataframe\">\n",
              "  <thead>\n",
              "    <tr style=\"text-align: right;\">\n",
              "      <th></th>\n",
              "      <th>tau1</th>\n",
              "      <th>tau2</th>\n",
              "      <th>tau3</th>\n",
              "      <th>tau4</th>\n",
              "      <th>p1</th>\n",
              "      <th>p2</th>\n",
              "      <th>p3</th>\n",
              "      <th>p4</th>\n",
              "      <th>g1</th>\n",
              "      <th>g2</th>\n",
              "      <th>g3</th>\n",
              "      <th>g4</th>\n",
              "    </tr>\n",
              "  </thead>\n",
              "  <tbody>\n",
              "    <tr>\n",
              "      <th>0</th>\n",
              "      <td>0.367327</td>\n",
              "      <td>-0.986042</td>\n",
              "      <td>0.650447</td>\n",
              "      <td>1.547527</td>\n",
              "      <td>-0.291490</td>\n",
              "      <td>0.061535</td>\n",
              "      <td>1.293862</td>\n",
              "      <td>-0.845074</td>\n",
              "      <td>0.160918</td>\n",
              "      <td>0.339859</td>\n",
              "      <td>0.585568</td>\n",
              "      <td>0.492239</td>\n",
              "    </tr>\n",
              "    <tr>\n",
              "      <th>1</th>\n",
              "      <td>-0.064659</td>\n",
              "      <td>0.089437</td>\n",
              "      <td>1.035079</td>\n",
              "      <td>-1.641494</td>\n",
              "      <td>0.619865</td>\n",
              "      <td>-0.067235</td>\n",
              "      <td>-1.502925</td>\n",
              "      <td>0.486613</td>\n",
              "      <td>-0.293143</td>\n",
              "      <td>-1.558488</td>\n",
              "      <td>1.429649</td>\n",
              "      <td>-1.443521</td>\n",
              "    </tr>\n",
              "    <tr>\n",
              "      <th>2</th>\n",
              "      <td>-1.467850</td>\n",
              "      <td>1.298418</td>\n",
              "      <td>-0.502536</td>\n",
              "      <td>1.166046</td>\n",
              "      <td>-0.180521</td>\n",
              "      <td>0.490603</td>\n",
              "      <td>0.682560</td>\n",
              "      <td>-0.855302</td>\n",
              "      <td>1.399350</td>\n",
              "      <td>1.451534</td>\n",
              "      <td>-1.045743</td>\n",
              "      <td>0.492489</td>\n",
              "    </tr>\n",
              "    <tr>\n",
              "      <th>3</th>\n",
              "      <td>0.820081</td>\n",
              "      <td>0.529920</td>\n",
              "      <td>1.299657</td>\n",
              "      <td>-1.141975</td>\n",
              "      <td>-0.812854</td>\n",
              "      <td>-0.763632</td>\n",
              "      <td>1.521579</td>\n",
              "      <td>0.658780</td>\n",
              "      <td>-0.958319</td>\n",
              "      <td>1.361958</td>\n",
              "      <td>1.604140</td>\n",
              "      <td>0.275303</td>\n",
              "    </tr>\n",
              "    <tr>\n",
              "      <th>4</th>\n",
              "      <td>0.665424</td>\n",
              "      <td>-1.425627</td>\n",
              "      <td>0.312300</td>\n",
              "      <td>0.919137</td>\n",
              "      <td>-1.614296</td>\n",
              "      <td>0.760315</td>\n",
              "      <td>1.422019</td>\n",
              "      <td>0.639243</td>\n",
              "      <td>1.676895</td>\n",
              "      <td>0.695660</td>\n",
              "      <td>1.137504</td>\n",
              "      <td>-1.312575</td>\n",
              "    </tr>\n",
              "    <tr>\n",
              "      <th>...</th>\n",
              "      <td>...</td>\n",
              "      <td>...</td>\n",
              "      <td>...</td>\n",
              "      <td>...</td>\n",
              "      <td>...</td>\n",
              "      <td>...</td>\n",
              "      <td>...</td>\n",
              "      <td>...</td>\n",
              "      <td>...</td>\n",
              "      <td>...</td>\n",
              "      <td>...</td>\n",
              "      <td>...</td>\n",
              "    </tr>\n",
              "    <tr>\n",
              "      <th>7995</th>\n",
              "      <td>1.551314</td>\n",
              "      <td>0.007408</td>\n",
              "      <td>-1.177640</td>\n",
              "      <td>1.016898</td>\n",
              "      <td>-0.397177</td>\n",
              "      <td>0.759820</td>\n",
              "      <td>-0.636951</td>\n",
              "      <td>0.572703</td>\n",
              "      <td>-1.209413</td>\n",
              "      <td>0.313976</td>\n",
              "      <td>-1.625728</td>\n",
              "      <td>-0.637401</td>\n",
              "    </tr>\n",
              "    <tr>\n",
              "      <th>7996</th>\n",
              "      <td>1.015925</td>\n",
              "      <td>-0.223483</td>\n",
              "      <td>-1.489381</td>\n",
              "      <td>-1.479078</td>\n",
              "      <td>0.451468</td>\n",
              "      <td>-0.731994</td>\n",
              "      <td>0.990355</td>\n",
              "      <td>-1.048148</td>\n",
              "      <td>-1.094647</td>\n",
              "      <td>-0.755209</td>\n",
              "      <td>0.734821</td>\n",
              "      <td>-0.304433</td>\n",
              "    </tr>\n",
              "    <tr>\n",
              "      <th>7997</th>\n",
              "      <td>0.657609</td>\n",
              "      <td>-0.722756</td>\n",
              "      <td>-1.405888</td>\n",
              "      <td>-0.274301</td>\n",
              "      <td>-0.012584</td>\n",
              "      <td>1.438694</td>\n",
              "      <td>-0.364266</td>\n",
              "      <td>-1.046683</td>\n",
              "      <td>1.253539</td>\n",
              "      <td>0.293100</td>\n",
              "      <td>-1.550587</td>\n",
              "      <td>0.810344</td>\n",
              "    </tr>\n",
              "    <tr>\n",
              "      <th>7998</th>\n",
              "      <td>-0.059316</td>\n",
              "      <td>-1.260532</td>\n",
              "      <td>-1.010471</td>\n",
              "      <td>-0.877808</td>\n",
              "      <td>-0.779769</td>\n",
              "      <td>0.828824</td>\n",
              "      <td>0.516923</td>\n",
              "      <td>0.018984</td>\n",
              "      <td>-0.182448</td>\n",
              "      <td>-0.388255</td>\n",
              "      <td>-0.726781</td>\n",
              "      <td>1.667916</td>\n",
              "    </tr>\n",
              "    <tr>\n",
              "      <th>7999</th>\n",
              "      <td>-1.473214</td>\n",
              "      <td>0.638438</td>\n",
              "      <td>0.250122</td>\n",
              "      <td>-0.996484</td>\n",
              "      <td>1.950944</td>\n",
              "      <td>-1.163800</td>\n",
              "      <td>-0.732842</td>\n",
              "      <td>-1.513302</td>\n",
              "      <td>1.230438</td>\n",
              "      <td>-1.174110</td>\n",
              "      <td>1.179282</td>\n",
              "      <td>0.783627</td>\n",
              "    </tr>\n",
              "  </tbody>\n",
              "</table>\n",
              "<p>8000 rows × 12 columns</p>\n",
              "</div>"
            ],
            "text/plain": [
              "          tau1      tau2      tau3  ...        g2        g3        g4\n",
              "0     0.367327 -0.986042  0.650447  ...  0.339859  0.585568  0.492239\n",
              "1    -0.064659  0.089437  1.035079  ... -1.558488  1.429649 -1.443521\n",
              "2    -1.467850  1.298418 -0.502536  ...  1.451534 -1.045743  0.492489\n",
              "3     0.820081  0.529920  1.299657  ...  1.361958  1.604140  0.275303\n",
              "4     0.665424 -1.425627  0.312300  ...  0.695660  1.137504 -1.312575\n",
              "...        ...       ...       ...  ...       ...       ...       ...\n",
              "7995  1.551314  0.007408 -1.177640  ...  0.313976 -1.625728 -0.637401\n",
              "7996  1.015925 -0.223483 -1.489381  ... -0.755209  0.734821 -0.304433\n",
              "7997  0.657609 -0.722756 -1.405888  ...  0.293100 -1.550587  0.810344\n",
              "7998 -0.059316 -1.260532 -1.010471  ... -0.388255 -0.726781  1.667916\n",
              "7999 -1.473214  0.638438  0.250122  ... -1.174110  1.179282  0.783627\n",
              "\n",
              "[8000 rows x 12 columns]"
            ]
          },
          "metadata": {
            "tags": []
          },
          "execution_count": 50
        }
      ]
    },
    {
      "cell_type": "markdown",
      "metadata": {
        "id": "l8rQMpWfbhku",
        "colab_type": "text"
      },
      "source": [
        "### Using Random Forest Model"
      ]
    },
    {
      "cell_type": "code",
      "metadata": {
        "id": "2MNAN8E1U1Nj",
        "colab_type": "code",
        "colab": {
          "base_uri": "https://localhost:8080/",
          "height": 153
        },
        "outputId": "bcbb6357-525c-4000-cdcb-83a535828b06"
      },
      "source": [
        "#instantiate our model\n",
        "rf_model = RandomForestClassifier(random_state = 1)\n",
        "\n",
        "#fit our training variables\n",
        "rf_model.fit(scaled_train_X, y_train)"
      ],
      "execution_count": 7,
      "outputs": [
        {
          "output_type": "execute_result",
          "data": {
            "text/plain": [
              "RandomForestClassifier(bootstrap=True, ccp_alpha=0.0, class_weight=None,\n",
              "                       criterion='gini', max_depth=None, max_features='auto',\n",
              "                       max_leaf_nodes=None, max_samples=None,\n",
              "                       min_impurity_decrease=0.0, min_impurity_split=None,\n",
              "                       min_samples_leaf=1, min_samples_split=2,\n",
              "                       min_weight_fraction_leaf=0.0, n_estimators=100,\n",
              "                       n_jobs=None, oob_score=False, random_state=1, verbose=0,\n",
              "                       warm_start=False)"
            ]
          },
          "metadata": {
            "tags": []
          },
          "execution_count": 7
        }
      ]
    },
    {
      "cell_type": "code",
      "metadata": {
        "id": "-zCdQ3apU1Nu",
        "colab_type": "code",
        "colab": {
          "base_uri": "https://localhost:8080/",
          "height": 51
        },
        "outputId": "94944171-4ef4-4517-f6ef-d3aba8d4919a"
      },
      "source": [
        "#Generate predictions using our Random Forest Model\n",
        "predictions = rf_model.predict(scaled_test_X)\n",
        "predictions"
      ],
      "execution_count": 8,
      "outputs": [
        {
          "output_type": "execute_result",
          "data": {
            "text/plain": [
              "array(['unstable', 'unstable', 'stable', ..., 'stable', 'stable',\n",
              "       'unstable'], dtype=object)"
            ]
          },
          "metadata": {
            "tags": []
          },
          "execution_count": 8
        }
      ]
    },
    {
      "cell_type": "code",
      "metadata": {
        "id": "Acj3IyeYU1N5",
        "colab_type": "code",
        "colab": {
          "base_uri": "https://localhost:8080/",
          "height": 51
        },
        "outputId": "769ec4e2-b271-4a5c-f27c-03e36ad4f441"
      },
      "source": [
        "#import metrics for evaluating model performance\n",
        "from sklearn.metrics import classification_report, confusion_matrix\n",
        "\n",
        "#The Confusion Matrix for our Random Forest Model\n",
        "cof_matr = confusion_matrix(y_test, predictions)\n",
        "cof_matr"
      ],
      "execution_count": 52,
      "outputs": [
        {
          "output_type": "execute_result",
          "data": {
            "text/plain": [
              "array([[1233,   55],\n",
              "       [  87,  625]])"
            ]
          },
          "metadata": {
            "tags": []
          },
          "execution_count": 52
        }
      ]
    },
    {
      "cell_type": "code",
      "metadata": {
        "id": "hpOiyIVlU1OD",
        "colab_type": "code",
        "colab": {
          "base_uri": "https://localhost:8080/",
          "height": 170
        },
        "outputId": "2307b295-c720-4a3c-f94d-c959d8cb7fde"
      },
      "source": [
        "#Measuring performance of our model\n",
        "print (classification_report(y_test, predictions, digits = 4))\n"
      ],
      "execution_count": 54,
      "outputs": [
        {
          "output_type": "stream",
          "text": [
            "              precision    recall  f1-score   support\n",
            "\n",
            "      stable     0.9191    0.8778    0.8980       712\n",
            "    unstable     0.9341    0.9573    0.9456      1288\n",
            "\n",
            "    accuracy                         0.9290      2000\n",
            "   macro avg     0.9266    0.9176    0.9218      2000\n",
            "weighted avg     0.9288    0.9290    0.9286      2000\n",
            "\n"
          ],
          "name": "stdout"
        }
      ]
    },
    {
      "cell_type": "markdown",
      "metadata": {
        "id": "lMs61F3lU1OR",
        "colab_type": "text"
      },
      "source": [
        "### Using Extra Trees Classifier"
      ]
    },
    {
      "cell_type": "code",
      "metadata": {
        "id": "DGtlolcPU1OT",
        "colab_type": "code",
        "colab": {
          "base_uri": "https://localhost:8080/",
          "height": 153
        },
        "outputId": "51fa3b43-d610-42de-bd9f-d8a6cc925500"
      },
      "source": [
        "#Create an instance of our Extra Tree Classifier and set the random state to 1\n",
        "XtraT_clf = ExtraTreesClassifier(random_state = 1)\n",
        "\n",
        "#fit our Extra Tree Model\n",
        "XtraT_clf.fit(scaled_train_X, y_train)"
      ],
      "execution_count": 11,
      "outputs": [
        {
          "output_type": "execute_result",
          "data": {
            "text/plain": [
              "ExtraTreesClassifier(bootstrap=False, ccp_alpha=0.0, class_weight=None,\n",
              "                     criterion='gini', max_depth=None, max_features='auto',\n",
              "                     max_leaf_nodes=None, max_samples=None,\n",
              "                     min_impurity_decrease=0.0, min_impurity_split=None,\n",
              "                     min_samples_leaf=1, min_samples_split=2,\n",
              "                     min_weight_fraction_leaf=0.0, n_estimators=100,\n",
              "                     n_jobs=None, oob_score=False, random_state=1, verbose=0,\n",
              "                     warm_start=False)"
            ]
          },
          "metadata": {
            "tags": []
          },
          "execution_count": 11
        }
      ]
    },
    {
      "cell_type": "code",
      "metadata": {
        "id": "cQrGG4ocU1Oc",
        "colab_type": "code",
        "colab": {}
      },
      "source": [
        "#Making predictions based on our model\n",
        "XtraT_predict = XtraT_clf.predict(scaled_test_X)"
      ],
      "execution_count": 12,
      "outputs": []
    },
    {
      "cell_type": "code",
      "metadata": {
        "id": "kLHq4CKFU1Ol",
        "colab_type": "code",
        "colab": {
          "base_uri": "https://localhost:8080/",
          "height": 204
        },
        "outputId": "b29fc10f-9c64-466c-e84d-f2ab7263ccfa"
      },
      "source": [
        "#displaying the confusion matrix and evaluation metrics for our Extra Tree Model\n",
        "print (confusion_matrix(y_test, XtraT_predict))\n",
        "print (classification_report(y_test, XtraT_predict, digits = 4))"
      ],
      "execution_count": 57,
      "outputs": [
        {
          "output_type": "stream",
          "text": [
            "[[ 606  106]\n",
            " [  38 1250]]\n",
            "              precision    recall  f1-score   support\n",
            "\n",
            "      stable     0.9410    0.8511    0.8938       712\n",
            "    unstable     0.9218    0.9705    0.9455      1288\n",
            "\n",
            "    accuracy                         0.9280      2000\n",
            "   macro avg     0.9314    0.9108    0.9197      2000\n",
            "weighted avg     0.9287    0.9280    0.9271      2000\n",
            "\n"
          ],
          "name": "stdout"
        }
      ]
    },
    {
      "cell_type": "markdown",
      "metadata": {
        "id": "r9DUTh-KU1Ow",
        "colab_type": "text"
      },
      "source": [
        "### using XGBOOST"
      ]
    },
    {
      "cell_type": "code",
      "metadata": {
        "id": "94x9ksDVU1Oy",
        "colab_type": "code",
        "colab": {}
      },
      "source": [
        "#Import Extreme Gradient Boost\n",
        "import xgboost as xgb"
      ],
      "execution_count": 14,
      "outputs": []
    },
    {
      "cell_type": "code",
      "metadata": {
        "id": "0pP6jFyuU1O9",
        "colab_type": "code",
        "colab": {
          "base_uri": "https://localhost:8080/",
          "height": 136
        },
        "outputId": "72b08d0d-ffd5-4bf9-f90c-7e48e7c97903"
      },
      "source": [
        "#Create an instance of the Extreme Gradient Boost Classifier\n",
        "xgb_model = xgb.XGBClassifier(random_state = 1)\n",
        "\n",
        "#fit xgb model\n",
        "xgb_model.fit(scaled_train_X, y_train)"
      ],
      "execution_count": 15,
      "outputs": [
        {
          "output_type": "execute_result",
          "data": {
            "text/plain": [
              "XGBClassifier(base_score=0.5, booster='gbtree', colsample_bylevel=1,\n",
              "              colsample_bynode=1, colsample_bytree=1, gamma=0,\n",
              "              learning_rate=0.1, max_delta_step=0, max_depth=3,\n",
              "              min_child_weight=1, missing=None, n_estimators=100, n_jobs=1,\n",
              "              nthread=None, objective='binary:logistic', random_state=1,\n",
              "              reg_alpha=0, reg_lambda=1, scale_pos_weight=1, seed=None,\n",
              "              silent=None, subsample=1, verbosity=1)"
            ]
          },
          "metadata": {
            "tags": []
          },
          "execution_count": 15
        }
      ]
    },
    {
      "cell_type": "code",
      "metadata": {
        "id": "4y7SyLMSU1PL",
        "colab_type": "code",
        "colab": {
          "base_uri": "https://localhost:8080/",
          "height": 170
        },
        "outputId": "90f315ea-26d0-4fc4-de63-4a8dfaffd781"
      },
      "source": [
        "#Predict using our xgb model\n",
        "xgb_predict = xgb_model.predict(scaled_test_X)\n",
        "\n",
        "#display evaluation metrics of our xgb model\n",
        "print (classification_report(y_test, xgb_predict, digits = 4))"
      ],
      "execution_count": 55,
      "outputs": [
        {
          "output_type": "stream",
          "text": [
            "              precision    recall  f1-score   support\n",
            "\n",
            "      stable     0.9206    0.8469    0.8822       712\n",
            "    unstable     0.9190    0.9596    0.9389      1288\n",
            "\n",
            "    accuracy                         0.9195      2000\n",
            "   macro avg     0.9198    0.9033    0.9105      2000\n",
            "weighted avg     0.9195    0.9195    0.9187      2000\n",
            "\n"
          ],
          "name": "stdout"
        }
      ]
    },
    {
      "cell_type": "markdown",
      "metadata": {
        "id": "uuaaiPm7Zk62",
        "colab_type": "text"
      },
      "source": [
        "### Using Light GBM\n"
      ]
    },
    {
      "cell_type": "code",
      "metadata": {
        "id": "Mvr2APLRYvZ1",
        "colab_type": "code",
        "colab": {}
      },
      "source": [
        "#Import Light GBM\n",
        "import lightgbm as lgbm"
      ],
      "execution_count": 17,
      "outputs": []
    },
    {
      "cell_type": "code",
      "metadata": {
        "id": "VwHwsDWBakTT",
        "colab_type": "code",
        "colab": {}
      },
      "source": [
        "#Create an instance of our model, fit and then make predictions using the model\n",
        "lgb_model = lgbm.LGBMClassifier(random_state = 1)\n",
        "\n",
        "lgb_model.fit(scaled_train_X, y_train)\n",
        "\n",
        "lgbm_predict = lgb_model.predict(scaled_test_X)"
      ],
      "execution_count": 18,
      "outputs": []
    },
    {
      "cell_type": "code",
      "metadata": {
        "id": "-qIaTeN1bEiO",
        "colab_type": "code",
        "colab": {
          "base_uri": "https://localhost:8080/",
          "height": 170
        },
        "outputId": "bed2f2f5-3714-401d-9e49-17e7203ebb46"
      },
      "source": [
        "#Display the evaluation metrics for our lgbm model\n",
        "print (classification_report(y_test, lgbm_predict, digits = 4))"
      ],
      "execution_count": 56,
      "outputs": [
        {
          "output_type": "stream",
          "text": [
            "              precision    recall  f1-score   support\n",
            "\n",
            "      stable     0.9297    0.8919    0.9104       712\n",
            "    unstable     0.9415    0.9627    0.9520      1288\n",
            "\n",
            "    accuracy                         0.9375      2000\n",
            "   macro avg     0.9356    0.9273    0.9312      2000\n",
            "weighted avg     0.9373    0.9375    0.9372      2000\n",
            "\n"
          ],
          "name": "stdout"
        }
      ]
    },
    {
      "cell_type": "markdown",
      "metadata": {
        "id": "3mCH34N-coqp",
        "colab_type": "text"
      },
      "source": [
        "### Performance Tuning with Hyper Parameters"
      ]
    },
    {
      "cell_type": "code",
      "metadata": {
        "id": "yk6OJS86baYW",
        "colab_type": "code",
        "colab": {}
      },
      "source": [
        "#Defining the parameters for the Hyperparameter grid\n",
        "n_estimators = [50, 100, 300, 500, 1000]\n",
        "\n",
        "min_samples_split = [2, 3, 5, 7, 9]\n",
        "\n",
        "min_samples_leaf = [1, 2, 4, 6, 8]\n",
        "\n",
        "max_features = ['auto', 'sqrt', 'log2', None] \n",
        "\n",
        "hyperparameter_grid = {'n_estimators': n_estimators,\n",
        "\n",
        "                       'min_samples_leaf': min_samples_leaf,\n",
        "\n",
        "                       'min_samples_split': min_samples_split,\n",
        "\n",
        "                       'max_features': max_features}"
      ],
      "execution_count": 20,
      "outputs": []
    },
    {
      "cell_type": "code",
      "metadata": {
        "id": "-ZRybg-IdaCx",
        "colab_type": "code",
        "colab": {}
      },
      "source": [
        "#import Random Search Module\n",
        "from sklearn.model_selection import RandomizedSearchCV\n",
        "\n",
        "#create an instance and set random state to 1\n",
        "rand_search = RandomizedSearchCV(estimator = XtraT_clf, param_distributions = hyperparameter_grid, random_state= 1)\n",
        "\n",
        "#fit  our Random search model\n",
        "search = rand_search.fit(scaled_train_X, y_train)"
      ],
      "execution_count": 33,
      "outputs": []
    },
    {
      "cell_type": "code",
      "metadata": {
        "id": "axv72Z_Fe67-",
        "colab_type": "code",
        "colab": {
          "base_uri": "https://localhost:8080/",
          "height": 85
        },
        "outputId": "da2b34ca-efd5-4d3b-b429-f2db94f38f9d"
      },
      "source": [
        "#Display the best parameters using Random Search\n",
        "search.best_params_"
      ],
      "execution_count": 34,
      "outputs": [
        {
          "output_type": "execute_result",
          "data": {
            "text/plain": [
              "{'max_features': None,\n",
              " 'min_samples_leaf': 8,\n",
              " 'min_samples_split': 2,\n",
              " 'n_estimators': 1000}"
            ]
          },
          "metadata": {
            "tags": []
          },
          "execution_count": 34
        }
      ]
    },
    {
      "cell_type": "code",
      "metadata": {
        "id": "wdl2WzZVwG-T",
        "colab_type": "code",
        "colab": {
          "base_uri": "https://localhost:8080/",
          "height": 153
        },
        "outputId": "ae4c0b23-e591-4bc3-ef97-8c4b45ee71bd"
      },
      "source": [
        "#Display the best estimator\n",
        "search.best_estimator_"
      ],
      "execution_count": 35,
      "outputs": [
        {
          "output_type": "execute_result",
          "data": {
            "text/plain": [
              "ExtraTreesClassifier(bootstrap=False, ccp_alpha=0.0, class_weight=None,\n",
              "                     criterion='gini', max_depth=None, max_features=None,\n",
              "                     max_leaf_nodes=None, max_samples=None,\n",
              "                     min_impurity_decrease=0.0, min_impurity_split=None,\n",
              "                     min_samples_leaf=8, min_samples_split=2,\n",
              "                     min_weight_fraction_leaf=0.0, n_estimators=1000,\n",
              "                     n_jobs=None, oob_score=False, random_state=1, verbose=0,\n",
              "                     warm_start=False)"
            ]
          },
          "metadata": {
            "tags": []
          },
          "execution_count": 35
        }
      ]
    },
    {
      "cell_type": "code",
      "metadata": {
        "id": "lffSdeikwN38",
        "colab_type": "code",
        "colab": {
          "base_uri": "https://localhost:8080/",
          "height": 68
        },
        "outputId": "1db09edf-4551-4713-bc09-e182931ff4d3"
      },
      "source": [
        "#getting our most important features\n",
        "feature_importance = search.best_estimator_.feature_importances_\n",
        "print (\"Feature Importances: \\n\", feature_importance)"
      ],
      "execution_count": 36,
      "outputs": [
        {
          "output_type": "stream",
          "text": [
            "Feature Importances: \n",
            " [0.13723975 0.1405075  0.13468029 0.13541676 0.00368342 0.00533686\n",
            " 0.00542927 0.00496249 0.10256244 0.10757765 0.11306268 0.10954089]\n"
          ],
          "name": "stdout"
        }
      ]
    },
    {
      "cell_type": "code",
      "metadata": {
        "id": "9R4g4fxkx_RS",
        "colab_type": "code",
        "colab": {
          "base_uri": "https://localhost:8080/",
          "height": 221
        },
        "outputId": "4e995009-3cd6-450c-ef08-b9c5a6eb0962"
      },
      "source": [
        "#matching our best features to the column names and sorting in desending order\n",
        "sorted(zip(feature_importance, X.columns), reverse= True)"
      ],
      "execution_count": 38,
      "outputs": [
        {
          "output_type": "execute_result",
          "data": {
            "text/plain": [
              "[(0.14050750384993677, 'tau2'),\n",
              " (0.13723974766109256, 'tau1'),\n",
              " (0.1354167630909727, 'tau4'),\n",
              " (0.13468028520386593, 'tau3'),\n",
              " (0.11306267999167334, 'g3'),\n",
              " (0.10954089174337298, 'g4'),\n",
              " (0.10757764577478764, 'g2'),\n",
              " (0.10256244080927947, 'g1'),\n",
              " (0.005429268421191957, 'p3'),\n",
              " (0.005336864710946151, 'p2'),\n",
              " (0.004962486591192238, 'p4'),\n",
              " (0.003683422151688322, 'p1')]"
            ]
          },
          "metadata": {
            "tags": []
          },
          "execution_count": 38
        }
      ]
    },
    {
      "cell_type": "markdown",
      "metadata": {
        "id": "8kTKYSkEhRtR",
        "colab_type": "text"
      },
      "source": [
        "### Using the best parameters in our Extra Trees Classifier"
      ]
    },
    {
      "cell_type": "code",
      "metadata": {
        "id": "oljnz1Aqf47B",
        "colab_type": "code",
        "colab": {}
      },
      "source": [
        "new_tree = ExtraTreesClassifier(max_features = None, n_estimators= 1000, min_samples_leaf= 8, min_samples_split = 2)\n",
        "\n",
        "new_tree.fit(scaled_train_X, y_train)\n",
        "\n",
        "new_tree_predict = new_tree.predict(scaled_test_X)"
      ],
      "execution_count": 39,
      "outputs": []
    },
    {
      "cell_type": "code",
      "metadata": {
        "id": "mNC4fPqmkVay",
        "colab_type": "code",
        "colab": {
          "base_uri": "https://localhost:8080/",
          "height": 170
        },
        "outputId": "bce250f4-dd5f-4c00-d71d-cbf1f7635765"
      },
      "source": [
        "print (classification_report(y_test, new_tree_predict, digits = 4))"
      ],
      "execution_count": 59,
      "outputs": [
        {
          "output_type": "stream",
          "text": [
            "              precision    recall  f1-score   support\n",
            "\n",
            "      stable     0.9214    0.8722    0.8961       712\n",
            "    unstable     0.9314    0.9589    0.9449      1288\n",
            "\n",
            "    accuracy                         0.9280      2000\n",
            "   macro avg     0.9264    0.9155    0.9205      2000\n",
            "weighted avg     0.9278    0.9280    0.9275      2000\n",
            "\n"
          ],
          "name": "stdout"
        }
      ]
    },
    {
      "cell_type": "code",
      "metadata": {
        "id": "uFh2czBj0xiU",
        "colab_type": "code",
        "colab": {
          "base_uri": "https://localhost:8080/",
          "height": 51
        },
        "outputId": "eea75f77-23f5-48fc-984f-be6ede42e1ab"
      },
      "source": [
        "new_conf_matrix = confusion_matrix(y_test, new_tree_predict)\n",
        "new_conf_matrix"
      ],
      "execution_count": 49,
      "outputs": [
        {
          "output_type": "execute_result",
          "data": {
            "text/plain": [
              "array([[ 621,   91],\n",
              "       [  53, 1235]])"
            ]
          },
          "metadata": {
            "tags": []
          },
          "execution_count": 49
        }
      ]
    },
    {
      "cell_type": "code",
      "metadata": {
        "id": "XF69rnMJqHRs",
        "colab_type": "code",
        "colab": {}
      },
      "source": [
        "def plot_roc_curve(fpr, tpr):\n",
        "    plt.plot(fpr, tpr, color='orange', label='ROC')\n",
        "    plt.plot([0, 1], [0, 1], color='darkblue', linestyle='--')\n",
        "    plt.xlabel('False Positive Rate')\n",
        "    plt.ylabel('True Positive Rate')\n",
        "    plt.title('Receiver Operating Characteristic (ROC) Curve')\n",
        "    plt.legend()\n",
        "    plt.show()"
      ],
      "execution_count": 41,
      "outputs": []
    },
    {
      "cell_type": "code",
      "metadata": {
        "id": "C4qtACJM9Ujr",
        "colab_type": "code",
        "colab": {
          "base_uri": "https://localhost:8080/",
          "height": 136
        },
        "outputId": "2a5e8e0a-a0b6-467c-84ea-aa639cce772f"
      },
      "source": [
        "new_Tree_prob = new_tree.predict_proba(scaled_test_X)\n",
        "new_Tree_prob"
      ],
      "execution_count": 42,
      "outputs": [
        {
          "output_type": "execute_result",
          "data": {
            "text/plain": [
              "array([[0.06178383, 0.93821617],\n",
              "       [0.06116141, 0.93883859],\n",
              "       [0.7831002 , 0.2168998 ],\n",
              "       ...,\n",
              "       [0.77289752, 0.22710248],\n",
              "       [0.42329042, 0.57670958],\n",
              "       [0.18293181, 0.81706819]])"
            ]
          },
          "metadata": {
            "tags": []
          },
          "execution_count": 42
        }
      ]
    },
    {
      "cell_type": "code",
      "metadata": {
        "id": "GW3smr85-m16",
        "colab_type": "code",
        "colab": {
          "base_uri": "https://localhost:8080/",
          "height": 51
        },
        "outputId": "9779bd19-65d8-41fe-b16e-0a936833e2b7"
      },
      "source": [
        "new_Tree_prob = new_Tree_prob[:, 1]\n",
        "new_Tree_prob"
      ],
      "execution_count": 43,
      "outputs": [
        {
          "output_type": "execute_result",
          "data": {
            "text/plain": [
              "array([0.93821617, 0.93883859, 0.2168998 , ..., 0.22710248, 0.57670958,\n",
              "       0.81706819])"
            ]
          },
          "metadata": {
            "tags": []
          },
          "execution_count": 43
        }
      ]
    },
    {
      "cell_type": "code",
      "metadata": {
        "id": "QTnZZRQ7-4bT",
        "colab_type": "code",
        "colab": {
          "base_uri": "https://localhost:8080/",
          "height": 34
        },
        "outputId": "2d8a4d49-2354-4272-bd91-6e019a6757a4"
      },
      "source": [
        "from sklearn.metrics import roc_auc_score, roc_curve\n",
        "\n",
        "auc = roc_auc_score(y_test, new_Tree_prob)\n",
        "print ('AUC: %.2f'  % auc)"
      ],
      "execution_count": 44,
      "outputs": [
        {
          "output_type": "stream",
          "text": [
            "AUC: 0.98\n"
          ],
          "name": "stdout"
        }
      ]
    },
    {
      "cell_type": "code",
      "metadata": {
        "id": "2ydffiaSAnAa",
        "colab_type": "code",
        "colab": {}
      },
      "source": [
        "from sklearn.preprocessing import LabelEncoder\n",
        "\n",
        "encoder = LabelEncoder()\n",
        "\n",
        "y_test_coded = encoder.fit_transform(y_test)"
      ],
      "execution_count": 45,
      "outputs": []
    },
    {
      "cell_type": "code",
      "metadata": {
        "id": "G7VZpCbc_p0N",
        "colab_type": "code",
        "colab": {}
      },
      "source": [
        "fpr, tpr, thresholds = roc_curve(y_test_coded, new_Tree_prob)"
      ],
      "execution_count": 46,
      "outputs": []
    },
    {
      "cell_type": "code",
      "metadata": {
        "id": "xtRFRDEzAM-d",
        "colab_type": "code",
        "colab": {
          "base_uri": "https://localhost:8080/",
          "height": 295
        },
        "outputId": "8359fbd1-4e97-4a3b-bd1f-4349e65afa1f"
      },
      "source": [
        "plot_roc_curve(fpr, tpr)"
      ],
      "execution_count": 47,
      "outputs": [
        {
          "output_type": "display_data",
          "data": {
            "image/png": "[encoded data removed]",
            "text/plain": [
              "<Figure size 432x288 with 1 Axes>"
            ]
          },
          "metadata": {
            "tags": [],
            "needs_background": "light"
          }
        }
      ]
    },
    {
      "cell_type": "code",
      "metadata": {
        "id": "ChW_QoZMB0cW",
        "colab_type": "code",
        "colab": {}
      },
      "source": [
        ""
      ],
      "execution_count": 31,
      "outputs": []
    }
  ]
}